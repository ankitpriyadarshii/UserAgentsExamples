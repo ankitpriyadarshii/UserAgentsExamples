{
  "nbformat": 4,
  "nbformat_minor": 0,
  "metadata": {
    "colab": {
      "provenance": [],
      "authorship_tag": "ABX9TyOosm2dFaUe3b9Z0w/aJQQt"
    },
    "kernelspec": {
      "name": "python3",
      "display_name": "Python 3"
    },
    "language_info": {
      "name": "python"
    }
  },
  "cells": [
    {
      "cell_type": "markdown",
      "source": [
        "Links from Website Scarper"
      ],
      "metadata": {
        "id": "wtK39qBoiHiO"
      }
    },
    {
      "cell_type": "code",
      "execution_count": null,
      "metadata": {
        "id": "-SPOKqehamEc"
      },
      "outputs": [],
      "source": [
        "import requests\n",
        "from bs4 import BeautifulSoup\n",
        "\n",
        "html = requests.get(\"https://vitbhopal.ac.in/\").text\n",
        "soup = BeautifulSoup(html, 'html.parser')\n",
        "\n",
        "title = soup.title.string\n",
        "print(title)\n",
        "\n",
        "links = soup.find_all('a')\n",
        "for link in links:\n",
        "  print(link.get('href'))\n"
      ]
    },
    {
      "cell_type": "markdown",
      "source": [
        "Emails from Website Scraper"
      ],
      "metadata": {
        "id": "edpfdHNIjxZP"
      }
    },
    {
      "cell_type": "code",
      "source": [
        "import re\n",
        "import requests\n",
        "from bs4 import BeautifulSoup\n",
        "\n",
        "html = requests.get(\"https://vitbhopal.ac.in/\").text\n",
        "soup = BeautifulSoup(html, 'html.parser')\n",
        "\n",
        "text = soup.get_text()\n",
        "\n",
        "emails = re.findall(r'[\\w.]+\\@[\\w.]+', text)\n",
        "\n",
        "for email in emails:\n",
        "  print(email)\n"
      ],
      "metadata": {
        "id": "eTq5l6SriZbH"
      },
      "execution_count": null,
      "outputs": []
    },
    {
      "cell_type": "markdown",
      "source": [
        "Email Client"
      ],
      "metadata": {
        "id": "mXnmfFT3psKD"
      }
    },
    {
      "cell_type": "code",
      "source": [
        "import smtplib, ssl\n",
        "\n",
        "port = 465  # For SSL\n",
        "smtp_server = \"smtp.gmail.com\"\n",
        "\n",
        "# Enter your address\n",
        "sender_email = \"ankit.priyadarshi2020@vitbhopal.ac.in\"  \n",
        "\n",
        "# Enter receiver address\n",
        "receiver_email = \"ankitp2150@gmail.com\"  \n",
        "\n",
        "password = input(\"Type your password and press enter: \")\n",
        "\n",
        "message = \"\"\"\\\n",
        "Subject: Hi there\n",
        "\n",
        "This message is sent from Python Email Client.\"\"\"\n",
        "\n",
        "context = ssl.create_default_context()\n",
        "with smtplib.SMTP_SSL(smtp_server, port, context=context) as server:\n",
        "    server.login(sender_email, password)\n",
        "    server.sendmail(sender_email, receiver_email, message)"
      ],
      "metadata": {
        "id": "gAbCDpaApuJd"
      },
      "execution_count": null,
      "outputs": []
    }
  ]
}